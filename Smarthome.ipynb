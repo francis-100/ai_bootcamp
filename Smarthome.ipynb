{
  "nbformat": 4,
  "nbformat_minor": 0,
  "metadata": {
    "colab": {
      "provenance": [],
      "authorship_tag": "ABX9TyNf0VIiNa/+53ZnxrNPM5Ke",
      "include_colab_link": true
    },
    "kernelspec": {
      "name": "python3",
      "display_name": "Python 3"
    },
    "language_info": {
      "name": "python"
    }
  },
  "cells": [
    {
      "cell_type": "markdown",
      "metadata": {
        "id": "view-in-github",
        "colab_type": "text"
      },
      "source": [
        "<a href=\"https://colab.research.google.com/github/francis-100/ai_bootcamp/blob/main/Smarthome.ipynb\" target=\"_parent\"><img src=\"https://colab.research.google.com/assets/colab-badge.svg\" alt=\"Open In Colab\"/></a>"
      ]
    },
    {
      "cell_type": "code",
      "execution_count": 7,
      "metadata": {
        "colab": {
          "base_uri": "https://localhost:8080/"
        },
        "id": "WqkCR8gp270q",
        "outputId": "a8b32d94-6d9e-4d45-ff32-76a1febbd93c"
      },
      "outputs": [
        {
          "output_type": "stream",
          "name": "stderr",
          "text": [
            "[nltk_data] Downloading package punkt to /root/nltk_data...\n",
            "[nltk_data]   Unzipping tokenizers/punkt.zip.\n"
          ]
        }
      ],
      "source": [
        "import numpy as np\n",
        "import pandas as pd\n",
        "import seaborn as sns\n",
        "import matplotlib.pyplot as plt\n",
        "import nltk\n",
        "\n",
        "# Download the 'punkt' resource\n",
        "nltk.download('punkt')\n",
        "%matplotlib inline"
      ]
    },
    {
      "cell_type": "code",
      "source": [
        "df = pd.read_csv(\"smarthome.csv\")"
      ],
      "metadata": {
        "id": "_30airCC5d62"
      },
      "execution_count": 2,
      "outputs": []
    },
    {
      "cell_type": "code",
      "source": [
        "del df[\"Number\"]\n",
        "df"
      ],
      "metadata": {
        "colab": {
          "base_uri": "https://localhost:8080/",
          "height": 424
        },
        "id": "6cCW2ZhL6Bdk",
        "outputId": "8e6a8d40-2e9f-4890-eb71-a92f65c64ebc"
      },
      "execution_count": 3,
      "outputs": [
        {
          "output_type": "execute_result",
          "data": {
            "text/plain": [
              "    Category  Action_needed  Question Subcategory Action      Time  \\\n",
              "0     lights              1         0     kitchen     on     today   \n",
              "1     lights              1         0     kitchen     on  tomorrow   \n",
              "2     lights              1         0     kitchen     on      hour   \n",
              "3     lights              1         0     kitchen     on       day   \n",
              "4     lights              1         0  diningroom     on     today   \n",
              "..       ...            ...       ...         ...    ...       ...   \n",
              "658     time              0         0        none   none       now   \n",
              "659     time              0         0        none   none       now   \n",
              "660     time              1         0        none   none      hour   \n",
              "661     time              1         0        none   none       day   \n",
              "662     time              1         0        none   none       now   \n",
              "\n",
              "                                          Sentence  \n",
              "0                    Illuminate the kitchen today.  \n",
              "1                 Illuminate the kitchen tomorrow.  \n",
              "2    Turn on the light in the kitchen in 10 hours.  \n",
              "3       Turn on the light in the kitchen in 1 day.  \n",
              "4                Illuminate the dining room today.  \n",
              "..                                             ...  \n",
              "658                                          Time.  \n",
              "659          I don't want you to tell me the time.  \n",
              "660                   Tell me the time in an hour.  \n",
              "661                     Tell me the time in a day.  \n",
              "662                        What does te clock say?  \n",
              "\n",
              "[663 rows x 7 columns]"
            ],
            "text/html": [
              "\n",
              "  <div id=\"df-ca3a2dcc-8b68-4d49-8558-29d83711db4e\" class=\"colab-df-container\">\n",
              "    <div>\n",
              "<style scoped>\n",
              "    .dataframe tbody tr th:only-of-type {\n",
              "        vertical-align: middle;\n",
              "    }\n",
              "\n",
              "    .dataframe tbody tr th {\n",
              "        vertical-align: top;\n",
              "    }\n",
              "\n",
              "    .dataframe thead th {\n",
              "        text-align: right;\n",
              "    }\n",
              "</style>\n",
              "<table border=\"1\" class=\"dataframe\">\n",
              "  <thead>\n",
              "    <tr style=\"text-align: right;\">\n",
              "      <th></th>\n",
              "      <th>Category</th>\n",
              "      <th>Action_needed</th>\n",
              "      <th>Question</th>\n",
              "      <th>Subcategory</th>\n",
              "      <th>Action</th>\n",
              "      <th>Time</th>\n",
              "      <th>Sentence</th>\n",
              "    </tr>\n",
              "  </thead>\n",
              "  <tbody>\n",
              "    <tr>\n",
              "      <th>0</th>\n",
              "      <td>lights</td>\n",
              "      <td>1</td>\n",
              "      <td>0</td>\n",
              "      <td>kitchen</td>\n",
              "      <td>on</td>\n",
              "      <td>today</td>\n",
              "      <td>Illuminate the kitchen today.</td>\n",
              "    </tr>\n",
              "    <tr>\n",
              "      <th>1</th>\n",
              "      <td>lights</td>\n",
              "      <td>1</td>\n",
              "      <td>0</td>\n",
              "      <td>kitchen</td>\n",
              "      <td>on</td>\n",
              "      <td>tomorrow</td>\n",
              "      <td>Illuminate the kitchen tomorrow.</td>\n",
              "    </tr>\n",
              "    <tr>\n",
              "      <th>2</th>\n",
              "      <td>lights</td>\n",
              "      <td>1</td>\n",
              "      <td>0</td>\n",
              "      <td>kitchen</td>\n",
              "      <td>on</td>\n",
              "      <td>hour</td>\n",
              "      <td>Turn on the light in the kitchen in 10 hours.</td>\n",
              "    </tr>\n",
              "    <tr>\n",
              "      <th>3</th>\n",
              "      <td>lights</td>\n",
              "      <td>1</td>\n",
              "      <td>0</td>\n",
              "      <td>kitchen</td>\n",
              "      <td>on</td>\n",
              "      <td>day</td>\n",
              "      <td>Turn on the light in the kitchen in 1 day.</td>\n",
              "    </tr>\n",
              "    <tr>\n",
              "      <th>4</th>\n",
              "      <td>lights</td>\n",
              "      <td>1</td>\n",
              "      <td>0</td>\n",
              "      <td>diningroom</td>\n",
              "      <td>on</td>\n",
              "      <td>today</td>\n",
              "      <td>Illuminate the dining room today.</td>\n",
              "    </tr>\n",
              "    <tr>\n",
              "      <th>...</th>\n",
              "      <td>...</td>\n",
              "      <td>...</td>\n",
              "      <td>...</td>\n",
              "      <td>...</td>\n",
              "      <td>...</td>\n",
              "      <td>...</td>\n",
              "      <td>...</td>\n",
              "    </tr>\n",
              "    <tr>\n",
              "      <th>658</th>\n",
              "      <td>time</td>\n",
              "      <td>0</td>\n",
              "      <td>0</td>\n",
              "      <td>none</td>\n",
              "      <td>none</td>\n",
              "      <td>now</td>\n",
              "      <td>Time.</td>\n",
              "    </tr>\n",
              "    <tr>\n",
              "      <th>659</th>\n",
              "      <td>time</td>\n",
              "      <td>0</td>\n",
              "      <td>0</td>\n",
              "      <td>none</td>\n",
              "      <td>none</td>\n",
              "      <td>now</td>\n",
              "      <td>I don't want you to tell me the time.</td>\n",
              "    </tr>\n",
              "    <tr>\n",
              "      <th>660</th>\n",
              "      <td>time</td>\n",
              "      <td>1</td>\n",
              "      <td>0</td>\n",
              "      <td>none</td>\n",
              "      <td>none</td>\n",
              "      <td>hour</td>\n",
              "      <td>Tell me the time in an hour.</td>\n",
              "    </tr>\n",
              "    <tr>\n",
              "      <th>661</th>\n",
              "      <td>time</td>\n",
              "      <td>1</td>\n",
              "      <td>0</td>\n",
              "      <td>none</td>\n",
              "      <td>none</td>\n",
              "      <td>day</td>\n",
              "      <td>Tell me the time in a day.</td>\n",
              "    </tr>\n",
              "    <tr>\n",
              "      <th>662</th>\n",
              "      <td>time</td>\n",
              "      <td>1</td>\n",
              "      <td>0</td>\n",
              "      <td>none</td>\n",
              "      <td>none</td>\n",
              "      <td>now</td>\n",
              "      <td>What does te clock say?</td>\n",
              "    </tr>\n",
              "  </tbody>\n",
              "</table>\n",
              "<p>663 rows × 7 columns</p>\n",
              "</div>\n",
              "    <div class=\"colab-df-buttons\">\n",
              "\n",
              "  <div class=\"colab-df-container\">\n",
              "    <button class=\"colab-df-convert\" onclick=\"convertToInteractive('df-ca3a2dcc-8b68-4d49-8558-29d83711db4e')\"\n",
              "            title=\"Convert this dataframe to an interactive table.\"\n",
              "            style=\"display:none;\">\n",
              "\n",
              "  <svg xmlns=\"http://www.w3.org/2000/svg\" height=\"24px\" viewBox=\"0 -960 960 960\">\n",
              "    <path d=\"M120-120v-720h720v720H120Zm60-500h600v-160H180v160Zm220 220h160v-160H400v160Zm0 220h160v-160H400v160ZM180-400h160v-160H180v160Zm440 0h160v-160H620v160ZM180-180h160v-160H180v160Zm440 0h160v-160H620v160Z\"/>\n",
              "  </svg>\n",
              "    </button>\n",
              "\n",
              "  <style>\n",
              "    .colab-df-container {\n",
              "      display:flex;\n",
              "      gap: 12px;\n",
              "    }\n",
              "\n",
              "    .colab-df-convert {\n",
              "      background-color: #E8F0FE;\n",
              "      border: none;\n",
              "      border-radius: 50%;\n",
              "      cursor: pointer;\n",
              "      display: none;\n",
              "      fill: #1967D2;\n",
              "      height: 32px;\n",
              "      padding: 0 0 0 0;\n",
              "      width: 32px;\n",
              "    }\n",
              "\n",
              "    .colab-df-convert:hover {\n",
              "      background-color: #E2EBFA;\n",
              "      box-shadow: 0px 1px 2px rgba(60, 64, 67, 0.3), 0px 1px 3px 1px rgba(60, 64, 67, 0.15);\n",
              "      fill: #174EA6;\n",
              "    }\n",
              "\n",
              "    .colab-df-buttons div {\n",
              "      margin-bottom: 4px;\n",
              "    }\n",
              "\n",
              "    [theme=dark] .colab-df-convert {\n",
              "      background-color: #3B4455;\n",
              "      fill: #D2E3FC;\n",
              "    }\n",
              "\n",
              "    [theme=dark] .colab-df-convert:hover {\n",
              "      background-color: #434B5C;\n",
              "      box-shadow: 0px 1px 3px 1px rgba(0, 0, 0, 0.15);\n",
              "      filter: drop-shadow(0px 1px 2px rgba(0, 0, 0, 0.3));\n",
              "      fill: #FFFFFF;\n",
              "    }\n",
              "  </style>\n",
              "\n",
              "    <script>\n",
              "      const buttonEl =\n",
              "        document.querySelector('#df-ca3a2dcc-8b68-4d49-8558-29d83711db4e button.colab-df-convert');\n",
              "      buttonEl.style.display =\n",
              "        google.colab.kernel.accessAllowed ? 'block' : 'none';\n",
              "\n",
              "      async function convertToInteractive(key) {\n",
              "        const element = document.querySelector('#df-ca3a2dcc-8b68-4d49-8558-29d83711db4e');\n",
              "        const dataTable =\n",
              "          await google.colab.kernel.invokeFunction('convertToInteractive',\n",
              "                                                    [key], {});\n",
              "        if (!dataTable) return;\n",
              "\n",
              "        const docLinkHtml = 'Like what you see? Visit the ' +\n",
              "          '<a target=\"_blank\" href=https://colab.research.google.com/notebooks/data_table.ipynb>data table notebook</a>'\n",
              "          + ' to learn more about interactive tables.';\n",
              "        element.innerHTML = '';\n",
              "        dataTable['output_type'] = 'display_data';\n",
              "        await google.colab.output.renderOutput(dataTable, element);\n",
              "        const docLink = document.createElement('div');\n",
              "        docLink.innerHTML = docLinkHtml;\n",
              "        element.appendChild(docLink);\n",
              "      }\n",
              "    </script>\n",
              "  </div>\n",
              "\n",
              "\n",
              "<div id=\"df-b2125fc2-48b2-4b0a-8d06-8f21c0b97c9c\">\n",
              "  <button class=\"colab-df-quickchart\" onclick=\"quickchart('df-b2125fc2-48b2-4b0a-8d06-8f21c0b97c9c')\"\n",
              "            title=\"Suggest charts\"\n",
              "            style=\"display:none;\">\n",
              "\n",
              "<svg xmlns=\"http://www.w3.org/2000/svg\" height=\"24px\"viewBox=\"0 0 24 24\"\n",
              "     width=\"24px\">\n",
              "    <g>\n",
              "        <path d=\"M19 3H5c-1.1 0-2 .9-2 2v14c0 1.1.9 2 2 2h14c1.1 0 2-.9 2-2V5c0-1.1-.9-2-2-2zM9 17H7v-7h2v7zm4 0h-2V7h2v10zm4 0h-2v-4h2v4z\"/>\n",
              "    </g>\n",
              "</svg>\n",
              "  </button>\n",
              "\n",
              "<style>\n",
              "  .colab-df-quickchart {\n",
              "      --bg-color: #E8F0FE;\n",
              "      --fill-color: #1967D2;\n",
              "      --hover-bg-color: #E2EBFA;\n",
              "      --hover-fill-color: #174EA6;\n",
              "      --disabled-fill-color: #AAA;\n",
              "      --disabled-bg-color: #DDD;\n",
              "  }\n",
              "\n",
              "  [theme=dark] .colab-df-quickchart {\n",
              "      --bg-color: #3B4455;\n",
              "      --fill-color: #D2E3FC;\n",
              "      --hover-bg-color: #434B5C;\n",
              "      --hover-fill-color: #FFFFFF;\n",
              "      --disabled-bg-color: #3B4455;\n",
              "      --disabled-fill-color: #666;\n",
              "  }\n",
              "\n",
              "  .colab-df-quickchart {\n",
              "    background-color: var(--bg-color);\n",
              "    border: none;\n",
              "    border-radius: 50%;\n",
              "    cursor: pointer;\n",
              "    display: none;\n",
              "    fill: var(--fill-color);\n",
              "    height: 32px;\n",
              "    padding: 0;\n",
              "    width: 32px;\n",
              "  }\n",
              "\n",
              "  .colab-df-quickchart:hover {\n",
              "    background-color: var(--hover-bg-color);\n",
              "    box-shadow: 0 1px 2px rgba(60, 64, 67, 0.3), 0 1px 3px 1px rgba(60, 64, 67, 0.15);\n",
              "    fill: var(--button-hover-fill-color);\n",
              "  }\n",
              "\n",
              "  .colab-df-quickchart-complete:disabled,\n",
              "  .colab-df-quickchart-complete:disabled:hover {\n",
              "    background-color: var(--disabled-bg-color);\n",
              "    fill: var(--disabled-fill-color);\n",
              "    box-shadow: none;\n",
              "  }\n",
              "\n",
              "  .colab-df-spinner {\n",
              "    border: 2px solid var(--fill-color);\n",
              "    border-color: transparent;\n",
              "    border-bottom-color: var(--fill-color);\n",
              "    animation:\n",
              "      spin 1s steps(1) infinite;\n",
              "  }\n",
              "\n",
              "  @keyframes spin {\n",
              "    0% {\n",
              "      border-color: transparent;\n",
              "      border-bottom-color: var(--fill-color);\n",
              "      border-left-color: var(--fill-color);\n",
              "    }\n",
              "    20% {\n",
              "      border-color: transparent;\n",
              "      border-left-color: var(--fill-color);\n",
              "      border-top-color: var(--fill-color);\n",
              "    }\n",
              "    30% {\n",
              "      border-color: transparent;\n",
              "      border-left-color: var(--fill-color);\n",
              "      border-top-color: var(--fill-color);\n",
              "      border-right-color: var(--fill-color);\n",
              "    }\n",
              "    40% {\n",
              "      border-color: transparent;\n",
              "      border-right-color: var(--fill-color);\n",
              "      border-top-color: var(--fill-color);\n",
              "    }\n",
              "    60% {\n",
              "      border-color: transparent;\n",
              "      border-right-color: var(--fill-color);\n",
              "    }\n",
              "    80% {\n",
              "      border-color: transparent;\n",
              "      border-right-color: var(--fill-color);\n",
              "      border-bottom-color: var(--fill-color);\n",
              "    }\n",
              "    90% {\n",
              "      border-color: transparent;\n",
              "      border-bottom-color: var(--fill-color);\n",
              "    }\n",
              "  }\n",
              "</style>\n",
              "\n",
              "  <script>\n",
              "    async function quickchart(key) {\n",
              "      const quickchartButtonEl =\n",
              "        document.querySelector('#' + key + ' button');\n",
              "      quickchartButtonEl.disabled = true;  // To prevent multiple clicks.\n",
              "      quickchartButtonEl.classList.add('colab-df-spinner');\n",
              "      try {\n",
              "        const charts = await google.colab.kernel.invokeFunction(\n",
              "            'suggestCharts', [key], {});\n",
              "      } catch (error) {\n",
              "        console.error('Error during call to suggestCharts:', error);\n",
              "      }\n",
              "      quickchartButtonEl.classList.remove('colab-df-spinner');\n",
              "      quickchartButtonEl.classList.add('colab-df-quickchart-complete');\n",
              "    }\n",
              "    (() => {\n",
              "      let quickchartButtonEl =\n",
              "        document.querySelector('#df-b2125fc2-48b2-4b0a-8d06-8f21c0b97c9c button');\n",
              "      quickchartButtonEl.style.display =\n",
              "        google.colab.kernel.accessAllowed ? 'block' : 'none';\n",
              "    })();\n",
              "  </script>\n",
              "</div>\n",
              "\n",
              "  <div id=\"id_155d70e5-9b9c-44d3-96e6-ac96627ccfd5\">\n",
              "    <style>\n",
              "      .colab-df-generate {\n",
              "        background-color: #E8F0FE;\n",
              "        border: none;\n",
              "        border-radius: 50%;\n",
              "        cursor: pointer;\n",
              "        display: none;\n",
              "        fill: #1967D2;\n",
              "        height: 32px;\n",
              "        padding: 0 0 0 0;\n",
              "        width: 32px;\n",
              "      }\n",
              "\n",
              "      .colab-df-generate:hover {\n",
              "        background-color: #E2EBFA;\n",
              "        box-shadow: 0px 1px 2px rgba(60, 64, 67, 0.3), 0px 1px 3px 1px rgba(60, 64, 67, 0.15);\n",
              "        fill: #174EA6;\n",
              "      }\n",
              "\n",
              "      [theme=dark] .colab-df-generate {\n",
              "        background-color: #3B4455;\n",
              "        fill: #D2E3FC;\n",
              "      }\n",
              "\n",
              "      [theme=dark] .colab-df-generate:hover {\n",
              "        background-color: #434B5C;\n",
              "        box-shadow: 0px 1px 3px 1px rgba(0, 0, 0, 0.15);\n",
              "        filter: drop-shadow(0px 1px 2px rgba(0, 0, 0, 0.3));\n",
              "        fill: #FFFFFF;\n",
              "      }\n",
              "    </style>\n",
              "    <button class=\"colab-df-generate\" onclick=\"generateWithVariable('df')\"\n",
              "            title=\"Generate code using this dataframe.\"\n",
              "            style=\"display:none;\">\n",
              "\n",
              "  <svg xmlns=\"http://www.w3.org/2000/svg\" height=\"24px\"viewBox=\"0 0 24 24\"\n",
              "       width=\"24px\">\n",
              "    <path d=\"M7,19H8.4L18.45,9,17,7.55,7,17.6ZM5,21V16.75L18.45,3.32a2,2,0,0,1,2.83,0l1.4,1.43a1.91,1.91,0,0,1,.58,1.4,1.91,1.91,0,0,1-.58,1.4L9.25,21ZM18.45,9,17,7.55Zm-12,3A5.31,5.31,0,0,0,4.9,8.1,5.31,5.31,0,0,0,1,6.5,5.31,5.31,0,0,0,4.9,4.9,5.31,5.31,0,0,0,6.5,1,5.31,5.31,0,0,0,8.1,4.9,5.31,5.31,0,0,0,12,6.5,5.46,5.46,0,0,0,6.5,12Z\"/>\n",
              "  </svg>\n",
              "    </button>\n",
              "    <script>\n",
              "      (() => {\n",
              "      const buttonEl =\n",
              "        document.querySelector('#id_155d70e5-9b9c-44d3-96e6-ac96627ccfd5 button.colab-df-generate');\n",
              "      buttonEl.style.display =\n",
              "        google.colab.kernel.accessAllowed ? 'block' : 'none';\n",
              "\n",
              "      buttonEl.onclick = () => {\n",
              "        google.colab.notebook.generateWithVariable('df');\n",
              "      }\n",
              "      })();\n",
              "    </script>\n",
              "  </div>\n",
              "\n",
              "    </div>\n",
              "  </div>\n"
            ],
            "application/vnd.google.colaboratory.intrinsic+json": {
              "type": "dataframe",
              "variable_name": "df",
              "summary": "{\n  \"name\": \"df\",\n  \"rows\": 663,\n  \"fields\": [\n    {\n      \"column\": \"Category\",\n      \"properties\": {\n        \"dtype\": \"category\",\n        \"num_unique_values\": 13,\n        \"samples\": [\n          \"coffeemachine\",\n          \"toaster\",\n          \"lights\"\n        ],\n        \"semantic_type\": \"\",\n        \"description\": \"\"\n      }\n    },\n    {\n      \"column\": \"Action_needed\",\n      \"properties\": {\n        \"dtype\": \"number\",\n        \"std\": 0,\n        \"min\": 0,\n        \"max\": 1,\n        \"num_unique_values\": 2,\n        \"samples\": [\n          0,\n          1\n        ],\n        \"semantic_type\": \"\",\n        \"description\": \"\"\n      }\n    },\n    {\n      \"column\": \"Question\",\n      \"properties\": {\n        \"dtype\": \"number\",\n        \"std\": 0,\n        \"min\": 0,\n        \"max\": 1,\n        \"num_unique_values\": 2,\n        \"samples\": [\n          1,\n          0\n        ],\n        \"semantic_type\": \"\",\n        \"description\": \"\"\n      }\n    },\n    {\n      \"column\": \"Subcategory\",\n      \"properties\": {\n        \"dtype\": \"category\",\n        \"num_unique_values\": 18,\n        \"samples\": [\n          \"kitchen\",\n          \"diningroom\"\n        ],\n        \"semantic_type\": \"\",\n        \"description\": \"\"\n      }\n    },\n    {\n      \"column\": \"Action\",\n      \"properties\": {\n        \"dtype\": \"category\",\n        \"num_unique_values\": 6,\n        \"samples\": [\n          \"on\",\n          \"none\"\n        ],\n        \"semantic_type\": \"\",\n        \"description\": \"\"\n      }\n    },\n    {\n      \"column\": \"Time\",\n      \"properties\": {\n        \"dtype\": \"category\",\n        \"num_unique_values\": 11,\n        \"samples\": [\n          \"minute\",\n          \"today\"\n        ],\n        \"semantic_type\": \"\",\n        \"description\": \"\"\n      }\n    },\n    {\n      \"column\": \"Sentence\",\n      \"properties\": {\n        \"dtype\": \"string\",\n        \"num_unique_values\": 645,\n        \"samples\": [\n          \"Turn off the coffeemachine when the coffee is done.\",\n          \"Shut down the garage door in 21 minutes for me.\"\n        ],\n        \"semantic_type\": \"\",\n        \"description\": \"\"\n      }\n    }\n  ]\n}"
            }
          },
          "metadata": {},
          "execution_count": 3
        }
      ]
    },
    {
      "cell_type": "code",
      "source": [
        "df.info()"
      ],
      "metadata": {
        "colab": {
          "base_uri": "https://localhost:8080/"
        },
        "id": "8Z7xxf4e6I6-",
        "outputId": "50a9d5a2-8239-4a37-cb35-6c226babd72e"
      },
      "execution_count": 4,
      "outputs": [
        {
          "output_type": "stream",
          "name": "stdout",
          "text": [
            "<class 'pandas.core.frame.DataFrame'>\n",
            "RangeIndex: 663 entries, 0 to 662\n",
            "Data columns (total 7 columns):\n",
            " #   Column         Non-Null Count  Dtype \n",
            "---  ------         --------------  ----- \n",
            " 0   Category       663 non-null    object\n",
            " 1   Action_needed  663 non-null    int64 \n",
            " 2   Question       663 non-null    int64 \n",
            " 3   Subcategory    663 non-null    object\n",
            " 4   Action         663 non-null    object\n",
            " 5   Time           663 non-null    object\n",
            " 6   Sentence       663 non-null    object\n",
            "dtypes: int64(2), object(5)\n",
            "memory usage: 36.4+ KB\n"
          ]
        }
      ]
    },
    {
      "cell_type": "code",
      "source": [
        "from nltk import word_tokenize\n",
        "from sklearn.model_selection import train_test_split\n",
        "import itertools\n",
        "import math"
      ],
      "metadata": {
        "id": "1GcbdFT0619S"
      },
      "execution_count": 5,
      "outputs": []
    },
    {
      "cell_type": "code",
      "source": [
        "sentences = df['Sentence']\n",
        "categories = df['Category']\n",
        "subcategories = df['Subcategory']\n",
        "actions = df['Action']\n",
        "\n",
        "uniquecategories = list(set(categories))\n",
        "uniquesubcategories = list(set(subcategories))\n",
        "uniqueactions = list(set(actions))\n",
        "\n",
        "mergesentences = list(itertools.chain.from_iterable([word_tokenize(sentence.lower()) for sentence in sentences]))\n",
        "vocabulary = list(set(mergesentences))\n",
        "print(vocabulary)"
      ],
      "metadata": {
        "colab": {
          "base_uri": "https://localhost:8080/"
        },
        "id": "OoRTmBgg7Qw3",
        "outputId": "15ec7fd8-896b-4327-9ea0-7b96722f1a2a"
      },
      "execution_count": 8,
      "outputs": [
        {
          "output_type": "stream",
          "name": "stdout",
          "text": [
            "['garage', 'certain', 'already', 'turn', 'time', 'spain', 'in', 'of', 'now', 'minutes', 'does', 'home', 'unusual', 'considered', 'other', 'potatoes', 'be', 'room', 'put', 'and', '112', 'library', 'drug', 'tot', 'appliance', 'trains', 'readings', 'brighter', 'players', 'this', 'can', 'lately', 'internet', 'leave', 'some', 'electricity', 'falls', \"'re\", 'facing', 'feel', 'cut', 'myplace', 'keep', 'bieber', 'live', 'storming', 'at', 'toast', 'departure', 'like', 'if', 'strange', 'motion', 'less', 'gradually', 'were', 'fog', 'clock', 'where', 'music', 'things', 'before', '11', 'drowning', 'eighteen', \"n't\", 'religions', 'bathroom', 'belgium', 'will', 'the', 'humidity', 'days', 'today', 'nothing', 'antwerp', 'sad', 'antwerpen', 'machine', 'hard', 'viewer', 'getting', 'would', 'cold', 'could', 'language', 'pixels', 'reading', 'maps', 'there', 'when', 'north', 'living', 'say', 'facebook', 'balen', 'with', 'place', 'alive', 'transport', 'movement', 'rooms', 'mean', 'tallest', 'all', 'use', 'lights', 'station', 'rises', 'operation', 'far', 'oceans', 'what', 'delays', 'malfunctions', 'more', 'should', 'ten', 'enlighten', 'any', 'which', 'movies', 'blinding', 'app', 'done', 'google', 'here', 'make', 'travel', 'freeze', 'later', 'going', 'refrigerator', 'oven', '85', 'lot', 'crete', 'sure', 'republican', 'direction', 'flow', 'have', '5', 'lower', 'hour', '15', 'adam', 'sick', 'feelings', 'possible', 'your', '0', 'shut', 'way', 'sandler', 'two', 'toaster', 'tomorrow', 'lighten', 'responds', 'let', 'outdoor', 'happy', '.', 'location', 'day', '45', 'relay', 'move', 'foggy', 'attic', 'shutters', 'cofeemachine', 'is', 'league', 'how', 'freezing', 'between', 'bike', 'tonight', 'animals', 'universe', 'own', 'bright', 'about', 'cats', 'closest', 'brussels', 'higher', 'flicker', 'to', 'currently', 'we', 'justin', 'who', 'dining', 'do', 'hasselt', 'shining', 'toilet', 'appear', 'colder', 'celsius', 'dogs', 'see', 'up', 'malidives', 'hailing', \"'d\", 'alone', 'kitchen', 'device', 'mallorca', 'letting', 'me', 'close', 'hail', '3', 'ride', 'hit', 'want', 'special', 'installed', 'person', '!', 'ca', 'something', 'september', 'ready', 'been', \"'s\", 'illuminate', 'month', 'give', 'go', 'tall', 'backyard', 'anything', 'te', 'mad', 'without', '7', 'made', 'control', 'cellar', 'fourteen', 'recording', 'basement', 'life', 'six', 'amount', 'from', 'that', 'week', 'trench', 'an', 'rain', 'doing', 'please', 'sensors', 'my', 'sensor', 'right', 'directions', '?', 'train', 'deepest', 'weather', 'window', 'dinin', 'great', 'earth', 'capital', 'continent', '50', 'heating', 'i', 'question', 'outside', 'help', 'on', 'human', 'get', 'below', 'sun', 'centigrade', 'coming', 'past', 'warm', 'wet', 'has', 'weeks', 'meaning', 'tell', 'animal', 'coffee', '6', 'shown', 'are', 'ok', 'averaged', 'running', 'info', 'cloudy', 'dinosaurs', 'busses', 'shooting', 'door', 'degrees', '4', 'dark', 'car', 'water', 'play', 'stop', 'not', 'bored', 'greece', 'power', 'too', 'random', 'am', '21', 'democrat', 'light', 'was', 'raise', 'minute', 'hot', 'skies', '8', 'many', 'donald', 'know', 'clouds', 'so', 'coffeemachine', 'update', 'strangers', 'anymore', 'little', 'activity', 'yesterday', 'written', 'down', 'system', 'climbs', 'freezes', 'fahrenheit', 'for', 'show', 'off', 'trump', 'few', 'a', 'above', 'find', 'bus', 'did', 'viewing', 'out', 'or', 'weed', 'it', 'open', 'species', 'long', '20', 'humans', '1', 'october', 'you', 'leuven', 'one', 'depart', 'first', '43', 'favor', 'wake', 'why', 'stupid', 'locationtracker', 'shine', '10', 'camera', 'diningroom', 'over', 'islands', 'hours', 'premier', 'next', 'think', '2', 'information', 'mouth', 'sixteen', 'public', 'house', 'temperature', 'exist', 'cameras', 'nearest', 'gets', 'mountain']\n"
          ]
        }
      ]
    },
    {
      "cell_type": "code",
      "source": [
        "# calculates how often the word appears in the sentence\n",
        "def term_frequency(word, sentence):\n",
        "    return sentence.split().count(word)"
      ],
      "metadata": {
        "id": "Hk-va_Ai7VGy"
      },
      "execution_count": 9,
      "outputs": []
    },
    {
      "cell_type": "code",
      "source": [
        "# calculates how often the word appears in the entire vocabulary\n",
        "def document_frequency(word):\n",
        "    return vocabulary.count(word)"
      ],
      "metadata": {
        "id": "o1uJlExT7aMm"
      },
      "execution_count": 10,
      "outputs": []
    },
    {
      "cell_type": "code",
      "source": [
        "# will make sure that unimportant words such as \"and\" that occur often will have lower weights\n",
        "# log taken to avoid exploding of IDF with words such as 'is' that can occur a lot\n",
        "def inverse_document_frequency(word):\n",
        "    return math.log(len(vocabulary) / (document_frequency(word) + 1))"
      ],
      "metadata": {
        "id": "ffkRU8zq7ajf"
      },
      "execution_count": 11,
      "outputs": []
    },
    {
      "cell_type": "code",
      "source": [
        "# get term frequency inverse document frequency value\n",
        "def calculate_tfidf(word, sentence):\n",
        "    return term_frequency(word, sentence) * inverse_document_frequency(word)"
      ],
      "metadata": {
        "id": "mqgRIWRE7g5v"
      },
      "execution_count": 12,
      "outputs": []
    },
    {
      "cell_type": "code",
      "source": [
        "# get one-hot encoded vectors for the targets\n",
        "def one_hot_class_vector(uniqueclasses, w):\n",
        "    emptyvector = [0 for i in range(len(uniqueclasses))]\n",
        "    emptyvector[uniqueclasses.index(w)] = 1\n",
        "    return emptyvector"
      ],
      "metadata": {
        "id": "3p8MwyHE7jx2"
      },
      "execution_count": 13,
      "outputs": []
    },
    {
      "cell_type": "code",
      "source": [
        "# get one-hot encoded vectors for the words\n",
        "def one_hot_vector(w):\n",
        "    emptyvector = [0 for i in range(len(vocabulary))]\n",
        "    emptyvector[vocabulary.index(w)] = 1\n",
        "    return emptyvector"
      ],
      "metadata": {
        "id": "Cl7smXG77m4f"
      },
      "execution_count": 14,
      "outputs": []
    },
    {
      "cell_type": "code",
      "source": [
        "# get one-hot encdoded sentence vector\n",
        "def sentence_vector(sentence, tfidf=False):\n",
        "    tokenizedlist = word_tokenize(sentence.lower())\n",
        "    sentencevector = [0 for i in range(len(vocabulary))]\n",
        "    count = 0\n",
        "\n",
        "    for word in tokenizedlist:\n",
        "        if word in vocabulary:\n",
        "            count = count + 1\n",
        "            if tfidf:\n",
        "                sentencevector = [x + y for x, y in zip(sentencevector, [e * calculate_tfidf(word, sentence) for e in one_hot_vector(word)])]\n",
        "            else:\n",
        "                sentencevector = [x + y for x, y in zip(sentencevector, one_hot_vector(word))]\n",
        "\n",
        "    if count == 0:\n",
        "        return sentencevector\n",
        "    else:\n",
        "        return [(el / count) for el in sentencevector]"
      ],
      "metadata": {
        "id": "VJTNdyXs7rMg"
      },
      "execution_count": 15,
      "outputs": []
    },
    {
      "cell_type": "code",
      "source": [
        "# wordvectors = [one_hot_vector(w) for w in vocabulary] # not needed\n",
        "categoryvectors = [cv.index(1) for cv in [one_hot_class_vector(uniquecategories, w) for w in categories]]\n",
        "subcategoryvectors = [cv.index(1) for cv in [one_hot_class_vector(uniquesubcategories, w) for w in subcategories]]\n",
        "actionvectors = [cv.index(1) for cv in [one_hot_class_vector(uniqueactions, w) for w in actions]]\n",
        "sentencevectors = [sentence_vector(sentence) for sentence in sentences]\n",
        "sentencevectorstfidf = [sentence_vector(sentence, True) for sentence in sentences]"
      ],
      "metadata": {
        "id": "9YME6YEg7rAB"
      },
      "execution_count": 16,
      "outputs": []
    },
    {
      "cell_type": "code",
      "source": [
        "X_train_cat, X_test_cat, y_train_cat, y_test_cat = train_test_split(sentencevectors, categoryvectors, test_size=0.25, random_state=42)\n",
        "X_train_cat_tfidf, X_test_cat_tfidf, y_train_cat_tfidf, y_test_cat_tfidf = train_test_split(sentencevectorstfidf, categoryvectors, test_size=0.25, random_state=42)\n",
        "X_train_subcat, X_test_subcat, y_train_subcat, y_test_subcat = train_test_split(sentencevectors, subcategoryvectors, test_size=0.25, random_state=42)\n",
        "X_train_action, X_test_action, y_train_action, y_test_action = train_test_split(sentencevectors, actionvectors, test_size=0.25, random_state=42)"
      ],
      "metadata": {
        "id": "u5fhQQMo7qxY"
      },
      "execution_count": 17,
      "outputs": []
    },
    {
      "cell_type": "code",
      "source": [
        "from sklearn.neural_network import MLPClassifier\n",
        "from sklearn.metrics import accuracy_score"
      ],
      "metadata": {
        "id": "E3Seeg3G_3y0"
      },
      "execution_count": 28,
      "outputs": []
    },
    {
      "cell_type": "code",
      "source": [
        "def train_fit(model_name, model, X_train, y_train, X_test, y_test):\n",
        "    \"\"\"\n",
        "    Train and fit the specified model with the given training data and labels,\n",
        "    and evaluate its performance using the provided test data and labels.\n",
        "\n",
        "    Args:\n",
        "    - model_name: A string specifying the name of the model.\n",
        "    - model: The model object (e.g., MLPClassifier) to train and fit.\n",
        "    - X_train: The training data.\n",
        "    - y_train: The training labels.\n",
        "    - X_test: The test data.\n",
        "    - y_test: The test labels.\n",
        "\n",
        "    Returns:\n",
        "    - The trained and fitted model.\n",
        "    \"\"\"\n",
        "    model.fit(X_train, y_train)\n",
        "    # Add any evaluation or performance metrics you need here\n",
        "    return model\n"
      ],
      "metadata": {
        "id": "cI0wI2cSAnjX"
      },
      "execution_count": 24,
      "outputs": []
    },
    {
      "cell_type": "code",
      "source": [
        "mlp_max_iter_model_cat = MLPClassifier(max_iter=10000)\n",
        "mlp_max_iter_model_cat = train_fit(\"MLPClassifier\", mlp_max_iter_model_cat, X_train_cat, y_train_cat, X_test_cat, y_test_cat)\n",
        "mlp_max_iter_model_subcat = MLPClassifier(max_iter=10000)\n",
        "mlp_max_iter_model_subcat = train_fit(\"MLPClassifier\", mlp_max_iter_model_subcat, X_train_subcat, y_train_subcat, X_test_subcat, y_test_subcat)\n",
        "mlp_max_iter_model_action = MLPClassifier(max_iter=10000)\n",
        "mlp_max_iter_model_action = train_fit(\"MLPClassifier\", mlp_max_iter_model_action, X_train_action, y_train_action, X_test_action, y_test_action)"
      ],
      "metadata": {
        "id": "o-fBFYB58lCy"
      },
      "execution_count": 25,
      "outputs": []
    },
    {
      "cell_type": "code",
      "source": [
        "# Create MLPClassifier model\n",
        "mlp_max_iter_model = MLPClassifier(max_iter=10000)\n",
        "\n",
        "# Train and fit the model\n",
        "mlp_max_iter_model.fit(X_train_cat, y_train_cat)"
      ],
      "metadata": {
        "colab": {
          "base_uri": "https://localhost:8080/",
          "height": 75
        },
        "id": "BRbocZ_oBEwf",
        "outputId": "e300b2ab-62fa-45b6-eec1-5ad0bc039e87"
      },
      "execution_count": 29,
      "outputs": [
        {
          "output_type": "execute_result",
          "data": {
            "text/plain": [
              "MLPClassifier(max_iter=10000)"
            ],
            "text/html": [
              "<style>#sk-container-id-2 {color: black;background-color: white;}#sk-container-id-2 pre{padding: 0;}#sk-container-id-2 div.sk-toggleable {background-color: white;}#sk-container-id-2 label.sk-toggleable__label {cursor: pointer;display: block;width: 100%;margin-bottom: 0;padding: 0.3em;box-sizing: border-box;text-align: center;}#sk-container-id-2 label.sk-toggleable__label-arrow:before {content: \"▸\";float: left;margin-right: 0.25em;color: #696969;}#sk-container-id-2 label.sk-toggleable__label-arrow:hover:before {color: black;}#sk-container-id-2 div.sk-estimator:hover label.sk-toggleable__label-arrow:before {color: black;}#sk-container-id-2 div.sk-toggleable__content {max-height: 0;max-width: 0;overflow: hidden;text-align: left;background-color: #f0f8ff;}#sk-container-id-2 div.sk-toggleable__content pre {margin: 0.2em;color: black;border-radius: 0.25em;background-color: #f0f8ff;}#sk-container-id-2 input.sk-toggleable__control:checked~div.sk-toggleable__content {max-height: 200px;max-width: 100%;overflow: auto;}#sk-container-id-2 input.sk-toggleable__control:checked~label.sk-toggleable__label-arrow:before {content: \"▾\";}#sk-container-id-2 div.sk-estimator input.sk-toggleable__control:checked~label.sk-toggleable__label {background-color: #d4ebff;}#sk-container-id-2 div.sk-label input.sk-toggleable__control:checked~label.sk-toggleable__label {background-color: #d4ebff;}#sk-container-id-2 input.sk-hidden--visually {border: 0;clip: rect(1px 1px 1px 1px);clip: rect(1px, 1px, 1px, 1px);height: 1px;margin: -1px;overflow: hidden;padding: 0;position: absolute;width: 1px;}#sk-container-id-2 div.sk-estimator {font-family: monospace;background-color: #f0f8ff;border: 1px dotted black;border-radius: 0.25em;box-sizing: border-box;margin-bottom: 0.5em;}#sk-container-id-2 div.sk-estimator:hover {background-color: #d4ebff;}#sk-container-id-2 div.sk-parallel-item::after {content: \"\";width: 100%;border-bottom: 1px solid gray;flex-grow: 1;}#sk-container-id-2 div.sk-label:hover label.sk-toggleable__label {background-color: #d4ebff;}#sk-container-id-2 div.sk-serial::before {content: \"\";position: absolute;border-left: 1px solid gray;box-sizing: border-box;top: 0;bottom: 0;left: 50%;z-index: 0;}#sk-container-id-2 div.sk-serial {display: flex;flex-direction: column;align-items: center;background-color: white;padding-right: 0.2em;padding-left: 0.2em;position: relative;}#sk-container-id-2 div.sk-item {position: relative;z-index: 1;}#sk-container-id-2 div.sk-parallel {display: flex;align-items: stretch;justify-content: center;background-color: white;position: relative;}#sk-container-id-2 div.sk-item::before, #sk-container-id-2 div.sk-parallel-item::before {content: \"\";position: absolute;border-left: 1px solid gray;box-sizing: border-box;top: 0;bottom: 0;left: 50%;z-index: -1;}#sk-container-id-2 div.sk-parallel-item {display: flex;flex-direction: column;z-index: 1;position: relative;background-color: white;}#sk-container-id-2 div.sk-parallel-item:first-child::after {align-self: flex-end;width: 50%;}#sk-container-id-2 div.sk-parallel-item:last-child::after {align-self: flex-start;width: 50%;}#sk-container-id-2 div.sk-parallel-item:only-child::after {width: 0;}#sk-container-id-2 div.sk-dashed-wrapped {border: 1px dashed gray;margin: 0 0.4em 0.5em 0.4em;box-sizing: border-box;padding-bottom: 0.4em;background-color: white;}#sk-container-id-2 div.sk-label label {font-family: monospace;font-weight: bold;display: inline-block;line-height: 1.2em;}#sk-container-id-2 div.sk-label-container {text-align: center;}#sk-container-id-2 div.sk-container {/* jupyter's `normalize.less` sets `[hidden] { display: none; }` but bootstrap.min.css set `[hidden] { display: none !important; }` so we also need the `!important` here to be able to override the default hidden behavior on the sphinx rendered scikit-learn.org. See: https://github.com/scikit-learn/scikit-learn/issues/21755 */display: inline-block !important;position: relative;}#sk-container-id-2 div.sk-text-repr-fallback {display: none;}</style><div id=\"sk-container-id-2\" class=\"sk-top-container\"><div class=\"sk-text-repr-fallback\"><pre>MLPClassifier(max_iter=10000)</pre><b>In a Jupyter environment, please rerun this cell to show the HTML representation or trust the notebook. <br />On GitHub, the HTML representation is unable to render, please try loading this page with nbviewer.org.</b></div><div class=\"sk-container\" hidden><div class=\"sk-item\"><div class=\"sk-estimator sk-toggleable\"><input class=\"sk-toggleable__control sk-hidden--visually\" id=\"sk-estimator-id-2\" type=\"checkbox\" checked><label for=\"sk-estimator-id-2\" class=\"sk-toggleable__label sk-toggleable__label-arrow\">MLPClassifier</label><div class=\"sk-toggleable__content\"><pre>MLPClassifier(max_iter=10000)</pre></div></div></div></div></div>"
            ]
          },
          "metadata": {},
          "execution_count": 29
        }
      ]
    },
    {
      "cell_type": "code",
      "source": [
        "def predict(model, classes, sentence):\n",
        "    y_preds = model.predict([sentence_vector(sentence)])\n",
        "    return classes[y_preds[0]]"
      ],
      "metadata": {
        "id": "spaQVz2h8oha"
      },
      "execution_count": 30,
      "outputs": []
    },
    {
      "cell_type": "code",
      "source": [
        "sentence = \"Hi Google, please turn off the lights.\"\n",
        "print(predict(mlp_max_iter_model, uniquecategories, sentence))\n",
        "print(predict(mlp_max_iter_model_subcat, uniquesubcategories, sentence))\n",
        "print(predict(mlp_max_iter_model_action, uniqueactions, sentence))"
      ],
      "metadata": {
        "colab": {
          "base_uri": "https://localhost:8080/"
        },
        "id": "7gVUgbLN8r5K",
        "outputId": "07a278ba-7b06-4e0e-b1a2-abffab0bd89f"
      },
      "execution_count": 31,
      "outputs": [
        {
          "output_type": "stream",
          "name": "stdout",
          "text": [
            "lights\n",
            "none\n",
            "off\n"
          ]
        }
      ]
    },
    {
      "cell_type": "code",
      "source": [
        "sentence = \"Turn the lights off in the kitchen.\"\n",
        "print(predict(mlp_max_iter_model, uniquecategories, sentence))\n",
        "print(predict(mlp_max_iter_model_subcat, uniquesubcategories, sentence))\n",
        "print(predict(mlp_max_iter_model_action, uniqueactions, sentence))"
      ],
      "metadata": {
        "colab": {
          "base_uri": "https://localhost:8080/"
        },
        "id": "UMXe1IO68y6K",
        "outputId": "ff22f1ee-af62-42e5-ac88-95f07de32ca8"
      },
      "execution_count": 32,
      "outputs": [
        {
          "output_type": "stream",
          "name": "stdout",
          "text": [
            "lights\n",
            "kitchen\n",
            "off\n"
          ]
        }
      ]
    },
    {
      "cell_type": "code",
      "source": [
        "sentence = \"Lower the door.\"\n",
        "print(predict(mlp_max_iter_model, uniquecategories, sentence))\n",
        "print(predict(mlp_max_iter_model_subcat, uniquesubcategories, sentence))\n",
        "print(predict(mlp_max_iter_model_action, uniqueactions, sentence))"
      ],
      "metadata": {
        "colab": {
          "base_uri": "https://localhost:8080/"
        },
        "id": "tlZNqon78ysh",
        "outputId": "671f2b60-827c-4362-d619-5551cfe01533"
      },
      "execution_count": 33,
      "outputs": [
        {
          "output_type": "stream",
          "name": "stdout",
          "text": [
            "shutters\n",
            "garage\n",
            "down\n"
          ]
        }
      ]
    }
  ]
}